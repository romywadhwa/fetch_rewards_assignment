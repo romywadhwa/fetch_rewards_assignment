{
 "cells": [
  {
   "cell_type": "markdown",
   "id": "64e83642",
   "metadata": {},
   "source": [
    "# Importing important libraries"
   ]
  },
  {
   "cell_type": "code",
   "execution_count": 550,
   "id": "2d40fc55",
   "metadata": {},
   "outputs": [],
   "source": [
    "import gzip\n",
    "import json\n",
    "import pandas as pd\n",
    "import numpy as np"
   ]
  },
  {
   "cell_type": "markdown",
   "id": "b9dde6a5",
   "metadata": {},
   "source": [
    "# loading Brand json file"
   ]
  },
  {
   "cell_type": "code",
   "execution_count": 551,
   "id": "8341e33e",
   "metadata": {},
   "outputs": [],
   "source": [
    "data = []\n",
    "with gzip.open('brands.json.gz', 'rt') as f:\n",
    "    for line in f:\n",
    "        data.append(json.loads(line))\n",
    "\n",
    "brands = pd.DataFrame(data)"
   ]
  },
  {
   "cell_type": "markdown",
   "id": "ad5fccb1",
   "metadata": {},
   "source": [
    "# loading Receipts json file"
   ]
  },
  {
   "cell_type": "code",
   "execution_count": 552,
   "id": "98636867",
   "metadata": {},
   "outputs": [],
   "source": [
    "data = []\n",
    "with gzip.open('receipts.json.gz', 'rt') as f:\n",
    "    for line in f:\n",
    "        data.append(json.loads(line))\n",
    "receipts = pd.DataFrame(data)"
   ]
  },
  {
   "cell_type": "markdown",
   "id": "6b9a86e2",
   "metadata": {},
   "source": [
    "# loading Users json file"
   ]
  },
  {
   "cell_type": "code",
   "execution_count": 553,
   "id": "1aaafee1",
   "metadata": {},
   "outputs": [],
   "source": [
    "data = []\n",
    "with gzip.open('users.json.gz', 'rt') as f:\n",
    "    for line in f:\n",
    "        data.append(json.loads(line))\n",
    "\n",
    "users = pd.DataFrame(data)"
   ]
  },
  {
   "cell_type": "markdown",
   "id": "72f88cff",
   "metadata": {},
   "source": [
    "# Analyzing brands data "
   ]
  },
  {
   "cell_type": "code",
   "execution_count": 554,
   "id": "bd6fd6db",
   "metadata": {},
   "outputs": [
    {
     "name": "stdout",
     "output_type": "stream",
     "text": [
      "<class 'pandas.core.frame.DataFrame'>\n",
      "RangeIndex: 1167 entries, 0 to 1166\n",
      "Data columns (total 8 columns):\n",
      " #   Column        Non-Null Count  Dtype \n",
      "---  ------        --------------  ----- \n",
      " 0   _id           1167 non-null   object\n",
      " 1   barcode       1167 non-null   object\n",
      " 2   category      1012 non-null   object\n",
      " 3   categoryCode  517 non-null    object\n",
      " 4   cpg           1167 non-null   object\n",
      " 5   name          1167 non-null   object\n",
      " 6   topBrand      555 non-null    object\n",
      " 7   brandCode     933 non-null    object\n",
      "dtypes: object(8)\n",
      "memory usage: 73.1+ KB\n"
     ]
    }
   ],
   "source": [
    "brands.info()"
   ]
  },
  {
   "cell_type": "code",
   "execution_count": 555,
   "id": "c0bb96f6",
   "metadata": {},
   "outputs": [
    {
     "data": {
      "text/plain": [
       "_id               0\n",
       "barcode           0\n",
       "category        155\n",
       "categoryCode    650\n",
       "cpg               0\n",
       "name              0\n",
       "topBrand        612\n",
       "brandCode       234\n",
       "dtype: int64"
      ]
     },
     "execution_count": 555,
     "metadata": {},
     "output_type": "execute_result"
    }
   ],
   "source": [
    "brands.isna().sum()"
   ]
  },
  {
   "cell_type": "markdown",
   "id": "9e2e062e",
   "metadata": {},
   "source": [
    "# Performing Required transformations in Brands data"
   ]
  },
  {
   "cell_type": "code",
   "execution_count": 556,
   "id": "b6d04adb",
   "metadata": {},
   "outputs": [
    {
     "data": {
      "text/html": [
       "<div><div id=b3296a84-1470-48ec-aa08-c4a0b798927b style=\"display:none; background-color:#9D6CFF; color:white; width:200px; height:30px; padding-left:5px; border-radius:4px; flex-direction:row; justify-content:space-around; align-items:center;\" onmouseover=\"this.style.backgroundColor='#BA9BF8'\" onmouseout=\"this.style.backgroundColor='#9D6CFF'\" onclick=\"window.commands?.execute('create-mitosheet-from-dataframe-output');\">See Full Dataframe in Mito</div> <script> if (window.commands?.hasCommand('create-mitosheet-from-dataframe-output')) document.getElementById('b3296a84-1470-48ec-aa08-c4a0b798927b').style.display = 'flex' </script> <table border=\"1\" class=\"dataframe\">\n",
       "  <thead>\n",
       "    <tr style=\"text-align: right;\">\n",
       "      <th></th>\n",
       "      <th>_id</th>\n",
       "      <th>barcode</th>\n",
       "      <th>category</th>\n",
       "      <th>categoryCode</th>\n",
       "      <th>cpg</th>\n",
       "      <th>name</th>\n",
       "      <th>topBrand</th>\n",
       "      <th>brandCode</th>\n",
       "    </tr>\n",
       "  </thead>\n",
       "  <tbody>\n",
       "    <tr>\n",
       "      <th>0</th>\n",
       "      <td>601ac115be37ce2ead437551</td>\n",
       "      <td>511111019862</td>\n",
       "      <td>Baking</td>\n",
       "      <td>BAKING</td>\n",
       "      <td>Cogs</td>\n",
       "      <td>test brand @1612366101024</td>\n",
       "      <td>False</td>\n",
       "      <td>NaN</td>\n",
       "    </tr>\n",
       "    <tr>\n",
       "      <th>1</th>\n",
       "      <td>601c5460be37ce2ead43755f</td>\n",
       "      <td>511111519928</td>\n",
       "      <td>Beverages</td>\n",
       "      <td>BEVERAGES</td>\n",
       "      <td>Cogs</td>\n",
       "      <td>Starbucks</td>\n",
       "      <td>False</td>\n",
       "      <td>STARBUCKS</td>\n",
       "    </tr>\n",
       "    <tr>\n",
       "      <th>2</th>\n",
       "      <td>601ac142be37ce2ead43755d</td>\n",
       "      <td>511111819905</td>\n",
       "      <td>Baking</td>\n",
       "      <td>BAKING</td>\n",
       "      <td>Cogs</td>\n",
       "      <td>test brand @1612366146176</td>\n",
       "      <td>False</td>\n",
       "      <td>TEST BRANDCODE @1612366146176</td>\n",
       "    </tr>\n",
       "    <tr>\n",
       "      <th>3</th>\n",
       "      <td>601ac142be37ce2ead43755a</td>\n",
       "      <td>511111519874</td>\n",
       "      <td>Baking</td>\n",
       "      <td>BAKING</td>\n",
       "      <td>Cogs</td>\n",
       "      <td>test brand @1612366146051</td>\n",
       "      <td>False</td>\n",
       "      <td>TEST BRANDCODE @1612366146051</td>\n",
       "    </tr>\n",
       "    <tr>\n",
       "      <th>4</th>\n",
       "      <td>601ac142be37ce2ead43755e</td>\n",
       "      <td>511111319917</td>\n",
       "      <td>Candy &amp; Sweets</td>\n",
       "      <td>CANDY_AND_SWEETS</td>\n",
       "      <td>Cogs</td>\n",
       "      <td>test brand @1612366146827</td>\n",
       "      <td>False</td>\n",
       "      <td>TEST BRANDCODE @1612366146827</td>\n",
       "    </tr>\n",
       "  </tbody>\n",
       "</table></div>"
      ],
      "text/plain": [
       "                        _id       barcode        category      categoryCode  \\\n",
       "0  601ac115be37ce2ead437551  511111019862          Baking            BAKING   \n",
       "1  601c5460be37ce2ead43755f  511111519928       Beverages         BEVERAGES   \n",
       "2  601ac142be37ce2ead43755d  511111819905          Baking            BAKING   \n",
       "3  601ac142be37ce2ead43755a  511111519874          Baking            BAKING   \n",
       "4  601ac142be37ce2ead43755e  511111319917  Candy & Sweets  CANDY_AND_SWEETS   \n",
       "\n",
       "    cpg                       name topBrand                      brandCode  \n",
       "0  Cogs  test brand @1612366101024    False                            NaN  \n",
       "1  Cogs                  Starbucks    False                      STARBUCKS  \n",
       "2  Cogs  test brand @1612366146176    False  TEST BRANDCODE @1612366146176  \n",
       "3  Cogs  test brand @1612366146051    False  TEST BRANDCODE @1612366146051  \n",
       "4  Cogs  test brand @1612366146827    False  TEST BRANDCODE @1612366146827  "
      ]
     },
     "execution_count": 556,
     "metadata": {},
     "output_type": "execute_result"
    }
   ],
   "source": [
    "brands['_id'] = brands['_id'].apply(lambda x: x['$oid'])\n",
    "brands['cpg'] = brands['cpg'].apply(lambda x: x['$ref'])\n",
    "brands.head()"
   ]
  },
  {
   "cell_type": "markdown",
   "id": "0d36ce64",
   "metadata": {},
   "source": [
    "# Analyzing receipts data "
   ]
  },
  {
   "cell_type": "code",
   "execution_count": 557,
   "id": "a7cb3431",
   "metadata": {},
   "outputs": [
    {
     "name": "stdout",
     "output_type": "stream",
     "text": [
      "<class 'pandas.core.frame.DataFrame'>\n",
      "RangeIndex: 1119 entries, 0 to 1118\n",
      "Data columns (total 15 columns):\n",
      " #   Column                   Non-Null Count  Dtype  \n",
      "---  ------                   --------------  -----  \n",
      " 0   _id                      1119 non-null   object \n",
      " 1   bonusPointsEarned        544 non-null    float64\n",
      " 2   bonusPointsEarnedReason  544 non-null    object \n",
      " 3   createDate               1119 non-null   object \n",
      " 4   dateScanned              1119 non-null   object \n",
      " 5   finishedDate             568 non-null    object \n",
      " 6   modifyDate               1119 non-null   object \n",
      " 7   pointsAwardedDate        537 non-null    object \n",
      " 8   pointsEarned             609 non-null    object \n",
      " 9   purchaseDate             671 non-null    object \n",
      " 10  purchasedItemCount       635 non-null    float64\n",
      " 11  rewardsReceiptItemList   679 non-null    object \n",
      " 12  rewardsReceiptStatus     1119 non-null   object \n",
      " 13  totalSpent               684 non-null    object \n",
      " 14  userId                   1119 non-null   object \n",
      "dtypes: float64(2), object(13)\n",
      "memory usage: 131.3+ KB\n"
     ]
    }
   ],
   "source": [
    "receipts.info()"
   ]
  },
  {
   "cell_type": "code",
   "execution_count": 558,
   "id": "696cbd0f",
   "metadata": {},
   "outputs": [
    {
     "data": {
      "text/plain": [
       "_id                          0\n",
       "bonusPointsEarned          575\n",
       "bonusPointsEarnedReason    575\n",
       "createDate                   0\n",
       "dateScanned                  0\n",
       "finishedDate               551\n",
       "modifyDate                   0\n",
       "pointsAwardedDate          582\n",
       "pointsEarned               510\n",
       "purchaseDate               448\n",
       "purchasedItemCount         484\n",
       "rewardsReceiptItemList     440\n",
       "rewardsReceiptStatus         0\n",
       "totalSpent                 435\n",
       "userId                       0\n",
       "dtype: int64"
      ]
     },
     "execution_count": 558,
     "metadata": {},
     "output_type": "execute_result"
    }
   ],
   "source": [
    "receipts.isna().sum()"
   ]
  },
  {
   "cell_type": "markdown",
   "id": "4d499346",
   "metadata": {},
   "source": [
    "# Performing Required transformations in receipts data"
   ]
  },
  {
   "cell_type": "code",
   "execution_count": 559,
   "id": "89726c32",
   "metadata": {},
   "outputs": [
    {
     "data": {
      "text/html": [
       "<div><div id=5a2534fa-a866-4424-98d7-65106cca13e3 style=\"display:none; background-color:#9D6CFF; color:white; width:200px; height:30px; padding-left:5px; border-radius:4px; flex-direction:row; justify-content:space-around; align-items:center;\" onmouseover=\"this.style.backgroundColor='#BA9BF8'\" onmouseout=\"this.style.backgroundColor='#9D6CFF'\" onclick=\"window.commands?.execute('create-mitosheet-from-dataframe-output');\">See Full Dataframe in Mito</div> <script> if (window.commands?.hasCommand('create-mitosheet-from-dataframe-output')) document.getElementById('5a2534fa-a866-4424-98d7-65106cca13e3').style.display = 'flex' </script> <table border=\"1\" class=\"dataframe\">\n",
       "  <thead>\n",
       "    <tr style=\"text-align: right;\">\n",
       "      <th></th>\n",
       "      <th>_id</th>\n",
       "      <th>bonusPointsEarned</th>\n",
       "      <th>bonusPointsEarnedReason</th>\n",
       "      <th>createDate</th>\n",
       "      <th>dateScanned</th>\n",
       "      <th>finishedDate</th>\n",
       "      <th>modifyDate</th>\n",
       "      <th>pointsAwardedDate</th>\n",
       "      <th>pointsEarned</th>\n",
       "      <th>purchaseDate</th>\n",
       "      <th>purchasedItemCount</th>\n",
       "      <th>rewardsReceiptItemList</th>\n",
       "      <th>rewardsReceiptStatus</th>\n",
       "      <th>totalSpent</th>\n",
       "      <th>userId</th>\n",
       "    </tr>\n",
       "  </thead>\n",
       "  <tbody>\n",
       "    <tr>\n",
       "      <th>0</th>\n",
       "      <td>5ff1e1eb0a720f0523000575</td>\n",
       "      <td>500.0</td>\n",
       "      <td>Receipt number 2 completed, bonus point schedule DEFAULT (5cefdcacf3693e0b50e83a36)</td>\n",
       "      <td>2021-01-03 10:25:31</td>\n",
       "      <td>2021-01-03 10:25:31</td>\n",
       "      <td>2021-01-03 10:25:31</td>\n",
       "      <td>2021-01-03 10:25:36</td>\n",
       "      <td>2021-01-03 10:25:31</td>\n",
       "      <td>500.0</td>\n",
       "      <td>2021-01-02 19:00:00</td>\n",
       "      <td>5.0</td>\n",
       "      <td>[{'barcode': '4011', 'description': 'ITEM NOT FOUND', 'finalPrice': '26.00', 'itemPrice': '26.00', 'needsFetchReview': False, 'partnerItemId': '1', 'preventTargetGapPoints': True, 'quantityPurchased': 5, 'userFlaggedBarcode': '4011', 'userFlaggedNewItem': True, 'userFlaggedPrice': '26.00', 'userFlaggedQuantity': 5}]</td>\n",
       "      <td>FINISHED</td>\n",
       "      <td>26.00</td>\n",
       "      <td>5ff1e1eacfcf6c399c274ae6</td>\n",
       "    </tr>\n",
       "    <tr>\n",
       "      <th>1</th>\n",
       "      <td>5ff1e1bb0a720f052300056b</td>\n",
       "      <td>150.0</td>\n",
       "      <td>Receipt number 5 completed, bonus point schedule DEFAULT (5cefdcacf3693e0b50e83a36)</td>\n",
       "      <td>2021-01-03 10:24:43</td>\n",
       "      <td>2021-01-03 10:24:43</td>\n",
       "      <td>2021-01-03 10:24:43</td>\n",
       "      <td>2021-01-03 10:24:48</td>\n",
       "      <td>2021-01-03 10:24:43</td>\n",
       "      <td>150.0</td>\n",
       "      <td>2021-01-02 10:24:43</td>\n",
       "      <td>2.0</td>\n",
       "      <td>[{'barcode': '4011', 'description': 'ITEM NOT FOUND', 'finalPrice': '1', 'itemPrice': '1', 'partnerItemId': '1', 'quantityPurchased': 1}, {'barcode': '028400642255', 'description': 'DORITOS TORTILLA CHIP SPICY SWEET CHILI REDUCED FAT BAG 1 OZ', 'finalPrice': '10.00', 'itemPrice': '10.00', 'needsFetchReview': True, 'needsFetchReviewReason': 'USER_FLAGGED', 'partnerItemId': '2', 'pointsNotAwardedReason': 'Action not allowed for user and CPG', 'pointsPayerId': '5332f5fbe4b03c9a25efd0ba', 'preventTargetGapPoints': True, 'quantityPurchased': 1, 'rewardsGroup': 'DORITOS SPICY SWEET CHILI SINGLE SERVE', 'rewardsProductPartnerId': '5332f5fbe4b03c9a25efd0ba', 'userFlaggedBarcode': '028400642255', 'userFlaggedDescription': 'DORITOS TORTILLA CHIP SPICY SWEET CHILI REDUCED FAT BAG 1 OZ', 'userFlaggedNewItem': True, 'userFlaggedPrice': '10.00', 'userFlaggedQuantity': 1}]</td>\n",
       "      <td>FINISHED</td>\n",
       "      <td>11.00</td>\n",
       "      <td>5ff1e194b6a9d73a3a9f1052</td>\n",
       "    </tr>\n",
       "    <tr>\n",
       "      <th>2</th>\n",
       "      <td>5ff1e1f10a720f052300057a</td>\n",
       "      <td>5.0</td>\n",
       "      <td>All-receipts receipt bonus</td>\n",
       "      <td>2021-01-03 10:25:37</td>\n",
       "      <td>2021-01-03 10:25:37</td>\n",
       "      <td>NaN</td>\n",
       "      <td>2021-01-03 10:25:42</td>\n",
       "      <td>NaN</td>\n",
       "      <td>5</td>\n",
       "      <td>2021-01-02 19:00:00</td>\n",
       "      <td>1.0</td>\n",
       "      <td>[{'needsFetchReview': False, 'partnerItemId': '1', 'preventTargetGapPoints': True, 'userFlaggedBarcode': '4011', 'userFlaggedNewItem': True, 'userFlaggedPrice': '26.00', 'userFlaggedQuantity': 3}]</td>\n",
       "      <td>REJECTED</td>\n",
       "      <td>10.00</td>\n",
       "      <td>5ff1e1f1cfcf6c399c274b0b</td>\n",
       "    </tr>\n",
       "    <tr>\n",
       "      <th>3</th>\n",
       "      <td>5ff1e1ee0a7214ada100056f</td>\n",
       "      <td>5.0</td>\n",
       "      <td>All-receipts receipt bonus</td>\n",
       "      <td>2021-01-03 10:25:34</td>\n",
       "      <td>2021-01-03 10:25:34</td>\n",
       "      <td>2021-01-03 10:25:34</td>\n",
       "      <td>2021-01-03 10:25:39</td>\n",
       "      <td>2021-01-03 10:25:34</td>\n",
       "      <td>5.0</td>\n",
       "      <td>2021-01-02 19:00:00</td>\n",
       "      <td>4.0</td>\n",
       "      <td>[{'barcode': '4011', 'description': 'ITEM NOT FOUND', 'finalPrice': '28.00', 'itemPrice': '28.00', 'needsFetchReview': False, 'partnerItemId': '1', 'preventTargetGapPoints': True, 'quantityPurchased': 4, 'userFlaggedBarcode': '4011', 'userFlaggedNewItem': True, 'userFlaggedPrice': '28.00', 'userFlaggedQuantity': 4}]</td>\n",
       "      <td>FINISHED</td>\n",
       "      <td>28.00</td>\n",
       "      <td>5ff1e1eacfcf6c399c274ae6</td>\n",
       "    </tr>\n",
       "    <tr>\n",
       "      <th>4</th>\n",
       "      <td>5ff1e1d20a7214ada1000561</td>\n",
       "      <td>5.0</td>\n",
       "      <td>All-receipts receipt bonus</td>\n",
       "      <td>2021-01-03 10:25:06</td>\n",
       "      <td>2021-01-03 10:25:06</td>\n",
       "      <td>2021-01-03 10:25:11</td>\n",
       "      <td>2021-01-03 10:25:11</td>\n",
       "      <td>2021-01-03 10:25:06</td>\n",
       "      <td>5.0</td>\n",
       "      <td>2021-01-02 10:25:06</td>\n",
       "      <td>2.0</td>\n",
       "      <td>[{'barcode': '4011', 'description': 'ITEM NOT FOUND', 'finalPrice': '1', 'itemPrice': '1', 'partnerItemId': '1', 'quantityPurchased': 1}, {'barcode': '1234', 'finalPrice': '2.56', 'itemPrice': '2.56', 'needsFetchReview': True, 'needsFetchReviewReason': 'USER_FLAGGED', 'partnerItemId': '2', 'preventTargetGapPoints': True, 'quantityPurchased': 3, 'userFlaggedBarcode': '1234', 'userFlaggedDescription': '', 'userFlaggedNewItem': True, 'userFlaggedPrice': '2.56', 'userFlaggedQuantity': 3}]</td>\n",
       "      <td>FINISHED</td>\n",
       "      <td>1.00</td>\n",
       "      <td>5ff1e194b6a9d73a3a9f1052</td>\n",
       "    </tr>\n",
       "  </tbody>\n",
       "</table></div>"
      ],
      "text/plain": [
       "                        _id  bonusPointsEarned  \\\n",
       "0  5ff1e1eb0a720f0523000575              500.0   \n",
       "1  5ff1e1bb0a720f052300056b              150.0   \n",
       "2  5ff1e1f10a720f052300057a                5.0   \n",
       "3  5ff1e1ee0a7214ada100056f                5.0   \n",
       "4  5ff1e1d20a7214ada1000561                5.0   \n",
       "\n",
       "                             bonusPointsEarnedReason           createDate  \\\n",
       "0  Receipt number 2 completed, bonus point schedu...  2021-01-03 10:25:31   \n",
       "1  Receipt number 5 completed, bonus point schedu...  2021-01-03 10:24:43   \n",
       "2                         All-receipts receipt bonus  2021-01-03 10:25:37   \n",
       "3                         All-receipts receipt bonus  2021-01-03 10:25:34   \n",
       "4                         All-receipts receipt bonus  2021-01-03 10:25:06   \n",
       "\n",
       "           dateScanned         finishedDate           modifyDate  \\\n",
       "0  2021-01-03 10:25:31  2021-01-03 10:25:31  2021-01-03 10:25:36   \n",
       "1  2021-01-03 10:24:43  2021-01-03 10:24:43  2021-01-03 10:24:48   \n",
       "2  2021-01-03 10:25:37                  NaN  2021-01-03 10:25:42   \n",
       "3  2021-01-03 10:25:34  2021-01-03 10:25:34  2021-01-03 10:25:39   \n",
       "4  2021-01-03 10:25:06  2021-01-03 10:25:11  2021-01-03 10:25:11   \n",
       "\n",
       "     pointsAwardedDate pointsEarned         purchaseDate  purchasedItemCount  \\\n",
       "0  2021-01-03 10:25:31        500.0  2021-01-02 19:00:00                 5.0   \n",
       "1  2021-01-03 10:24:43        150.0  2021-01-02 10:24:43                 2.0   \n",
       "2                  NaN            5  2021-01-02 19:00:00                 1.0   \n",
       "3  2021-01-03 10:25:34          5.0  2021-01-02 19:00:00                 4.0   \n",
       "4  2021-01-03 10:25:06          5.0  2021-01-02 10:25:06                 2.0   \n",
       "\n",
       "                              rewardsReceiptItemList rewardsReceiptStatus  \\\n",
       "0  [{'barcode': '4011', 'description': 'ITEM NOT ...             FINISHED   \n",
       "1  [{'barcode': '4011', 'description': 'ITEM NOT ...             FINISHED   \n",
       "2  [{'needsFetchReview': False, 'partnerItemId': ...             REJECTED   \n",
       "3  [{'barcode': '4011', 'description': 'ITEM NOT ...             FINISHED   \n",
       "4  [{'barcode': '4011', 'description': 'ITEM NOT ...             FINISHED   \n",
       "\n",
       "  totalSpent                    userId  \n",
       "0      26.00  5ff1e1eacfcf6c399c274ae6  \n",
       "1      11.00  5ff1e194b6a9d73a3a9f1052  \n",
       "2      10.00  5ff1e1f1cfcf6c399c274b0b  \n",
       "3      28.00  5ff1e1eacfcf6c399c274ae6  \n",
       "4       1.00  5ff1e194b6a9d73a3a9f1052  "
      ]
     },
     "execution_count": 559,
     "metadata": {},
     "output_type": "execute_result"
    }
   ],
   "source": [
    "combined_lambda = lambda x: datetime.datetime.fromtimestamp(x['$date'] / 1000).strftime('%Y-%m-%d %H:%M:%S')if pd.notnull(x) else np.nan \n",
    "\n",
    "# Apply the combined lambda function to the column\n",
    "receipts['createDate'] = receipts['createDate'].apply(combined_lambda)\n",
    "receipts['dateScanned'] = receipts['dateScanned'].apply(combined_lambda)\n",
    "receipts['finishedDate'] = receipts['finishedDate'].apply(combined_lambda)\n",
    "receipts['modifyDate'] = receipts['modifyDate'].apply(combined_lambda)\n",
    "receipts['pointsAwardedDate'] = receipts['pointsAwardedDate'].apply(combined_lambda)\n",
    "receipts['purchaseDate'] = receipts['purchaseDate'].apply(combined_lambda)\n",
    "receipts['_id'] = receipts['_id'].apply(lambda x: x['$oid'] if pd.notnull(x) else np.nan)\n",
    "receipts.head()"
   ]
  },
  {
   "cell_type": "markdown",
   "id": "f510a223",
   "metadata": {},
   "source": [
    "# Analyzing users data "
   ]
  },
  {
   "cell_type": "code",
   "execution_count": 560,
   "id": "f34cc3f3",
   "metadata": {},
   "outputs": [
    {
     "data": {
      "text/plain": [
       "_id              0\n",
       "active           0\n",
       "createdDate      0\n",
       "lastLogin       62\n",
       "role             0\n",
       "signUpSource    48\n",
       "state           56\n",
       "dtype: int64"
      ]
     },
     "execution_count": 560,
     "metadata": {},
     "output_type": "execute_result"
    }
   ],
   "source": [
    "users.isna().sum()"
   ]
  },
  {
   "cell_type": "code",
   "execution_count": 561,
   "id": "ca9cbad6",
   "metadata": {},
   "outputs": [
    {
     "name": "stdout",
     "output_type": "stream",
     "text": [
      "<class 'pandas.core.frame.DataFrame'>\n",
      "RangeIndex: 495 entries, 0 to 494\n",
      "Data columns (total 7 columns):\n",
      " #   Column        Non-Null Count  Dtype \n",
      "---  ------        --------------  ----- \n",
      " 0   _id           495 non-null    object\n",
      " 1   active        495 non-null    bool  \n",
      " 2   createdDate   495 non-null    object\n",
      " 3   lastLogin     433 non-null    object\n",
      " 4   role          495 non-null    object\n",
      " 5   signUpSource  447 non-null    object\n",
      " 6   state         439 non-null    object\n",
      "dtypes: bool(1), object(6)\n",
      "memory usage: 23.8+ KB\n"
     ]
    }
   ],
   "source": [
    "users.info()"
   ]
  },
  {
   "cell_type": "markdown",
   "id": "d7fe6508",
   "metadata": {},
   "source": [
    "# Performing required transformations in Users data"
   ]
  },
  {
   "cell_type": "code",
   "execution_count": 562,
   "id": "33655bc6",
   "metadata": {},
   "outputs": [
    {
     "data": {
      "text/html": [
       "<div><div id=c4956e3a-e7f2-4ab1-920e-b592c284d785 style=\"display:none; background-color:#9D6CFF; color:white; width:200px; height:30px; padding-left:5px; border-radius:4px; flex-direction:row; justify-content:space-around; align-items:center;\" onmouseover=\"this.style.backgroundColor='#BA9BF8'\" onmouseout=\"this.style.backgroundColor='#9D6CFF'\" onclick=\"window.commands?.execute('create-mitosheet-from-dataframe-output');\">See Full Dataframe in Mito</div> <script> if (window.commands?.hasCommand('create-mitosheet-from-dataframe-output')) document.getElementById('c4956e3a-e7f2-4ab1-920e-b592c284d785').style.display = 'flex' </script> <table border=\"1\" class=\"dataframe\">\n",
       "  <thead>\n",
       "    <tr style=\"text-align: right;\">\n",
       "      <th></th>\n",
       "      <th>_id</th>\n",
       "      <th>active</th>\n",
       "      <th>createdDate</th>\n",
       "      <th>lastLogin</th>\n",
       "      <th>role</th>\n",
       "      <th>signUpSource</th>\n",
       "      <th>state</th>\n",
       "    </tr>\n",
       "  </thead>\n",
       "  <tbody>\n",
       "    <tr>\n",
       "      <th>0</th>\n",
       "      <td>5ff1e194b6a9d73a3a9f1052</td>\n",
       "      <td>True</td>\n",
       "      <td>2021-01-03 10:24:04</td>\n",
       "      <td>2021-01-03 10:25:37</td>\n",
       "      <td>consumer</td>\n",
       "      <td>Email</td>\n",
       "      <td>WI</td>\n",
       "    </tr>\n",
       "    <tr>\n",
       "      <th>1</th>\n",
       "      <td>5ff1e194b6a9d73a3a9f1052</td>\n",
       "      <td>True</td>\n",
       "      <td>2021-01-03 10:24:04</td>\n",
       "      <td>2021-01-03 10:25:37</td>\n",
       "      <td>consumer</td>\n",
       "      <td>Email</td>\n",
       "      <td>WI</td>\n",
       "    </tr>\n",
       "    <tr>\n",
       "      <th>2</th>\n",
       "      <td>5ff1e194b6a9d73a3a9f1052</td>\n",
       "      <td>True</td>\n",
       "      <td>2021-01-03 10:24:04</td>\n",
       "      <td>2021-01-03 10:25:37</td>\n",
       "      <td>consumer</td>\n",
       "      <td>Email</td>\n",
       "      <td>WI</td>\n",
       "    </tr>\n",
       "    <tr>\n",
       "      <th>3</th>\n",
       "      <td>5ff1e1eacfcf6c399c274ae6</td>\n",
       "      <td>True</td>\n",
       "      <td>2021-01-03 10:25:30</td>\n",
       "      <td>2021-01-03 10:25:30</td>\n",
       "      <td>consumer</td>\n",
       "      <td>Email</td>\n",
       "      <td>WI</td>\n",
       "    </tr>\n",
       "    <tr>\n",
       "      <th>4</th>\n",
       "      <td>5ff1e194b6a9d73a3a9f1052</td>\n",
       "      <td>True</td>\n",
       "      <td>2021-01-03 10:24:04</td>\n",
       "      <td>2021-01-03 10:25:37</td>\n",
       "      <td>consumer</td>\n",
       "      <td>Email</td>\n",
       "      <td>WI</td>\n",
       "    </tr>\n",
       "  </tbody>\n",
       "</table></div>"
      ],
      "text/plain": [
       "                        _id  active          createdDate            lastLogin  \\\n",
       "0  5ff1e194b6a9d73a3a9f1052    True  2021-01-03 10:24:04  2021-01-03 10:25:37   \n",
       "1  5ff1e194b6a9d73a3a9f1052    True  2021-01-03 10:24:04  2021-01-03 10:25:37   \n",
       "2  5ff1e194b6a9d73a3a9f1052    True  2021-01-03 10:24:04  2021-01-03 10:25:37   \n",
       "3  5ff1e1eacfcf6c399c274ae6    True  2021-01-03 10:25:30  2021-01-03 10:25:30   \n",
       "4  5ff1e194b6a9d73a3a9f1052    True  2021-01-03 10:24:04  2021-01-03 10:25:37   \n",
       "\n",
       "       role signUpSource state  \n",
       "0  consumer        Email    WI  \n",
       "1  consumer        Email    WI  \n",
       "2  consumer        Email    WI  \n",
       "3  consumer        Email    WI  \n",
       "4  consumer        Email    WI  "
      ]
     },
     "execution_count": 562,
     "metadata": {},
     "output_type": "execute_result"
    }
   ],
   "source": [
    "combined_lambda = lambda x: datetime.datetime.fromtimestamp(x['$date'] / 1000).strftime('%Y-%m-%d %H:%M:%S')if pd.notnull(x) else np.nan \n",
    "# Apply the combined lambda function to the column\n",
    "users['lastLogin'] = users['lastLogin'].apply(combined_lambda)\n",
    "users['createdDate'] = users['createdDate'].apply(combined_lambda)\n",
    "users['_id'] = users['_id'].apply(lambda x: x['$oid'] if pd.notnull(x) else np.nan)\n",
    "users.head()"
   ]
  },
  {
   "cell_type": "markdown",
   "id": "f5abd8bf",
   "metadata": {},
   "source": [
    "## saving users and brands dataframes as csv to load them in postgre sql database for further analysis"
   ]
  },
  {
   "cell_type": "code",
   "execution_count": 563,
   "id": "d144e3c8",
   "metadata": {},
   "outputs": [],
   "source": [
    "users.to_csv('users.csv',index=False)\n",
    "brands.to_csv('brands.csv',index=False)"
   ]
  },
  {
   "cell_type": "code",
   "execution_count": 564,
   "id": "f9904135",
   "metadata": {},
   "outputs": [
    {
     "data": {
      "text/plain": [
       "Index(['_id', 'bonusPointsEarned', 'bonusPointsEarnedReason', 'createDate',\n",
       "       'dateScanned', 'finishedDate', 'modifyDate', 'pointsAwardedDate',\n",
       "       'pointsEarned', 'purchaseDate', 'purchasedItemCount',\n",
       "       'rewardsReceiptItemList', 'rewardsReceiptStatus', 'totalSpent',\n",
       "       'userId'],\n",
       "      dtype='object')"
      ]
     },
     "execution_count": 564,
     "metadata": {},
     "output_type": "execute_result"
    }
   ],
   "source": [
    "receipts.columns"
   ]
  },
  {
   "cell_type": "markdown",
   "id": "3d32e0a0",
   "metadata": {},
   "source": [
    "## Performing transformation in Rewards Receipt item list column in recipts column"
   ]
  },
  {
   "cell_type": "code",
   "execution_count": 565,
   "id": "176b56cd",
   "metadata": {},
   "outputs": [],
   "source": [
    "converted_column = [elem[0] for elem in receipts['rewardsReceiptItemList'] if isinstance(elem, list) and len(elem) > 0 and isinstance(elem[0], dict)]"
   ]
  },
  {
   "cell_type": "code",
   "execution_count": 566,
   "id": "5cabe964",
   "metadata": {},
   "outputs": [],
   "source": [
    "receipts_na=receipts[receipts['rewardsReceiptItemList'].isna()==False]\n",
    "receipts_na.reset_index(drop=True, inplace=True)"
   ]
  },
  {
   "cell_type": "code",
   "execution_count": 567,
   "id": "30aae579",
   "metadata": {},
   "outputs": [
    {
     "data": {
      "text/html": [
       "<div><div id=f0f5b57b-4ace-41f3-a445-051cbf616be8 style=\"display:none; background-color:#9D6CFF; color:white; width:200px; height:30px; padding-left:5px; border-radius:4px; flex-direction:row; justify-content:space-around; align-items:center;\" onmouseover=\"this.style.backgroundColor='#BA9BF8'\" onmouseout=\"this.style.backgroundColor='#9D6CFF'\" onclick=\"window.commands?.execute('create-mitosheet-from-dataframe-output');\">See Full Dataframe in Mito</div> <script> if (window.commands?.hasCommand('create-mitosheet-from-dataframe-output')) document.getElementById('f0f5b57b-4ace-41f3-a445-051cbf616be8').style.display = 'flex' </script> <table border=\"1\" class=\"dataframe\">\n",
       "  <thead>\n",
       "    <tr style=\"text-align: right;\">\n",
       "      <th></th>\n",
       "      <th>barcode</th>\n",
       "      <th>description</th>\n",
       "      <th>finalPrice</th>\n",
       "      <th>itemPrice</th>\n",
       "      <th>needsFetchReview</th>\n",
       "      <th>partnerItemId</th>\n",
       "      <th>preventTargetGapPoints</th>\n",
       "      <th>quantityPurchased</th>\n",
       "      <th>userFlaggedBarcode</th>\n",
       "      <th>userFlaggedNewItem</th>\n",
       "      <th>...</th>\n",
       "      <th>itemNumber</th>\n",
       "      <th>needsFetchReviewReason</th>\n",
       "      <th>originalMetaBriteQuantityPurchased</th>\n",
       "      <th>pointsEarned</th>\n",
       "      <th>targetPrice</th>\n",
       "      <th>competitiveProduct</th>\n",
       "      <th>userFlaggedDescription</th>\n",
       "      <th>deleted</th>\n",
       "      <th>priceAfterCoupon</th>\n",
       "      <th>metabriteCampaignId</th>\n",
       "    </tr>\n",
       "  </thead>\n",
       "  <tbody>\n",
       "    <tr>\n",
       "      <th>0</th>\n",
       "      <td>4011</td>\n",
       "      <td>ITEM NOT FOUND</td>\n",
       "      <td>26.00</td>\n",
       "      <td>26.00</td>\n",
       "      <td>False</td>\n",
       "      <td>1</td>\n",
       "      <td>True</td>\n",
       "      <td>5.0</td>\n",
       "      <td>4011</td>\n",
       "      <td>True</td>\n",
       "      <td>...</td>\n",
       "      <td>NaN</td>\n",
       "      <td>NaN</td>\n",
       "      <td>NaN</td>\n",
       "      <td>NaN</td>\n",
       "      <td>NaN</td>\n",
       "      <td>NaN</td>\n",
       "      <td>NaN</td>\n",
       "      <td>NaN</td>\n",
       "      <td>NaN</td>\n",
       "      <td>NaN</td>\n",
       "    </tr>\n",
       "    <tr>\n",
       "      <th>1</th>\n",
       "      <td>4011</td>\n",
       "      <td>ITEM NOT FOUND</td>\n",
       "      <td>1</td>\n",
       "      <td>1</td>\n",
       "      <td>NaN</td>\n",
       "      <td>1</td>\n",
       "      <td>NaN</td>\n",
       "      <td>1.0</td>\n",
       "      <td>NaN</td>\n",
       "      <td>NaN</td>\n",
       "      <td>...</td>\n",
       "      <td>NaN</td>\n",
       "      <td>NaN</td>\n",
       "      <td>NaN</td>\n",
       "      <td>NaN</td>\n",
       "      <td>NaN</td>\n",
       "      <td>NaN</td>\n",
       "      <td>NaN</td>\n",
       "      <td>NaN</td>\n",
       "      <td>NaN</td>\n",
       "      <td>NaN</td>\n",
       "    </tr>\n",
       "    <tr>\n",
       "      <th>2</th>\n",
       "      <td>NaN</td>\n",
       "      <td>NaN</td>\n",
       "      <td>NaN</td>\n",
       "      <td>NaN</td>\n",
       "      <td>False</td>\n",
       "      <td>1</td>\n",
       "      <td>True</td>\n",
       "      <td>NaN</td>\n",
       "      <td>4011</td>\n",
       "      <td>True</td>\n",
       "      <td>...</td>\n",
       "      <td>NaN</td>\n",
       "      <td>NaN</td>\n",
       "      <td>NaN</td>\n",
       "      <td>NaN</td>\n",
       "      <td>NaN</td>\n",
       "      <td>NaN</td>\n",
       "      <td>NaN</td>\n",
       "      <td>NaN</td>\n",
       "      <td>NaN</td>\n",
       "      <td>NaN</td>\n",
       "    </tr>\n",
       "    <tr>\n",
       "      <th>3</th>\n",
       "      <td>4011</td>\n",
       "      <td>ITEM NOT FOUND</td>\n",
       "      <td>28.00</td>\n",
       "      <td>28.00</td>\n",
       "      <td>False</td>\n",
       "      <td>1</td>\n",
       "      <td>True</td>\n",
       "      <td>4.0</td>\n",
       "      <td>4011</td>\n",
       "      <td>True</td>\n",
       "      <td>...</td>\n",
       "      <td>NaN</td>\n",
       "      <td>NaN</td>\n",
       "      <td>NaN</td>\n",
       "      <td>NaN</td>\n",
       "      <td>NaN</td>\n",
       "      <td>NaN</td>\n",
       "      <td>NaN</td>\n",
       "      <td>NaN</td>\n",
       "      <td>NaN</td>\n",
       "      <td>NaN</td>\n",
       "    </tr>\n",
       "    <tr>\n",
       "      <th>4</th>\n",
       "      <td>4011</td>\n",
       "      <td>ITEM NOT FOUND</td>\n",
       "      <td>1</td>\n",
       "      <td>1</td>\n",
       "      <td>NaN</td>\n",
       "      <td>1</td>\n",
       "      <td>NaN</td>\n",
       "      <td>1.0</td>\n",
       "      <td>NaN</td>\n",
       "      <td>NaN</td>\n",
       "      <td>...</td>\n",
       "      <td>NaN</td>\n",
       "      <td>NaN</td>\n",
       "      <td>NaN</td>\n",
       "      <td>NaN</td>\n",
       "      <td>NaN</td>\n",
       "      <td>NaN</td>\n",
       "      <td>NaN</td>\n",
       "      <td>NaN</td>\n",
       "      <td>NaN</td>\n",
       "      <td>NaN</td>\n",
       "    </tr>\n",
       "  </tbody>\n",
       "</table></div>"
      ],
      "text/plain": [
       "  barcode     description finalPrice itemPrice needsFetchReview partnerItemId  \\\n",
       "0    4011  ITEM NOT FOUND      26.00     26.00            False             1   \n",
       "1    4011  ITEM NOT FOUND          1         1              NaN             1   \n",
       "2     NaN             NaN        NaN       NaN            False             1   \n",
       "3    4011  ITEM NOT FOUND      28.00     28.00            False             1   \n",
       "4    4011  ITEM NOT FOUND          1         1              NaN             1   \n",
       "\n",
       "  preventTargetGapPoints  quantityPurchased userFlaggedBarcode  \\\n",
       "0                   True                5.0               4011   \n",
       "1                    NaN                1.0                NaN   \n",
       "2                   True                NaN               4011   \n",
       "3                   True                4.0               4011   \n",
       "4                    NaN                1.0                NaN   \n",
       "\n",
       "  userFlaggedNewItem  ... itemNumber  needsFetchReviewReason  \\\n",
       "0               True  ...        NaN                     NaN   \n",
       "1                NaN  ...        NaN                     NaN   \n",
       "2               True  ...        NaN                     NaN   \n",
       "3               True  ...        NaN                     NaN   \n",
       "4                NaN  ...        NaN                     NaN   \n",
       "\n",
       "  originalMetaBriteQuantityPurchased pointsEarned targetPrice  \\\n",
       "0                                NaN          NaN         NaN   \n",
       "1                                NaN          NaN         NaN   \n",
       "2                                NaN          NaN         NaN   \n",
       "3                                NaN          NaN         NaN   \n",
       "4                                NaN          NaN         NaN   \n",
       "\n",
       "  competitiveProduct userFlaggedDescription deleted priceAfterCoupon  \\\n",
       "0                NaN                    NaN     NaN              NaN   \n",
       "1                NaN                    NaN     NaN              NaN   \n",
       "2                NaN                    NaN     NaN              NaN   \n",
       "3                NaN                    NaN     NaN              NaN   \n",
       "4                NaN                    NaN     NaN              NaN   \n",
       "\n",
       "  metabriteCampaignId  \n",
       "0                 NaN  \n",
       "1                 NaN  \n",
       "2                 NaN  \n",
       "3                 NaN  \n",
       "4                 NaN  \n",
       "\n",
       "[5 rows x 32 columns]"
      ]
     },
     "execution_count": 567,
     "metadata": {},
     "output_type": "execute_result"
    }
   ],
   "source": [
    "converted_column=pd.DataFrame(converted_column)\n",
    "converted_column.head()"
   ]
  },
  {
   "cell_type": "code",
   "execution_count": 568,
   "id": "82346e59",
   "metadata": {},
   "outputs": [],
   "source": [
    "merged_df=pd.concat([receipts_na,converted_column],axis=1)"
   ]
  },
  {
   "cell_type": "code",
   "execution_count": 569,
   "id": "da9351ec",
   "metadata": {},
   "outputs": [
    {
     "data": {
      "text/plain": [
       "Index(['_id', 'bonusPointsEarned', 'bonusPointsEarnedReason', 'createDate',\n",
       "       'dateScanned', 'finishedDate', 'modifyDate', 'pointsAwardedDate',\n",
       "       'pointsEarned', 'purchaseDate', 'purchasedItemCount',\n",
       "       'rewardsReceiptItemList', 'rewardsReceiptStatus', 'totalSpent',\n",
       "       'userId', 'barcode', 'description', 'finalPrice', 'itemPrice',\n",
       "       'needsFetchReview', 'partnerItemId', 'preventTargetGapPoints',\n",
       "       'quantityPurchased', 'userFlaggedBarcode', 'userFlaggedNewItem',\n",
       "       'userFlaggedPrice', 'userFlaggedQuantity', 'originalMetaBriteBarcode',\n",
       "       'originalMetaBriteDescription', 'pointsNotAwardedReason',\n",
       "       'pointsPayerId', 'rewardsGroup', 'rewardsProductPartnerId', 'brandCode',\n",
       "       'competitorRewardsGroup', 'discountedItemPrice',\n",
       "       'originalReceiptItemText', 'itemNumber', 'needsFetchReviewReason',\n",
       "       'originalMetaBriteQuantityPurchased', 'pointsEarned', 'targetPrice',\n",
       "       'competitiveProduct', 'userFlaggedDescription', 'deleted',\n",
       "       'priceAfterCoupon', 'metabriteCampaignId'],\n",
       "      dtype='object')"
      ]
     },
     "execution_count": 569,
     "metadata": {},
     "output_type": "execute_result"
    }
   ],
   "source": [
    "merged_df.columns"
   ]
  },
  {
   "cell_type": "code",
   "execution_count": 570,
   "id": "3ad07a75",
   "metadata": {},
   "outputs": [],
   "source": [
    "merged_df['totalSpent']=merged_df['totalSpent'].astype(float)"
   ]
  },
  {
   "cell_type": "code",
   "execution_count": 571,
   "id": "90c94a6d",
   "metadata": {},
   "outputs": [
    {
     "data": {
      "text/html": [
       "<div><div id=a2018e7d-434e-47d4-9c2f-9e95f34a6e21 style=\"display:none; background-color:#9D6CFF; color:white; width:200px; height:30px; padding-left:5px; border-radius:4px; flex-direction:row; justify-content:space-around; align-items:center;\" onmouseover=\"this.style.backgroundColor='#BA9BF8'\" onmouseout=\"this.style.backgroundColor='#9D6CFF'\" onclick=\"window.commands?.execute('create-mitosheet-from-dataframe-output');\">See Full Dataframe in Mito</div> <script> if (window.commands?.hasCommand('create-mitosheet-from-dataframe-output')) document.getElementById('a2018e7d-434e-47d4-9c2f-9e95f34a6e21').style.display = 'flex' </script> <table border=\"1\" class=\"dataframe\">\n",
       "  <thead>\n",
       "    <tr style=\"text-align: right;\">\n",
       "      <th></th>\n",
       "      <th>_id</th>\n",
       "      <th>bonusPointsEarned</th>\n",
       "      <th>bonusPointsEarnedReason</th>\n",
       "      <th>createDate</th>\n",
       "      <th>dateScanned</th>\n",
       "      <th>finishedDate</th>\n",
       "      <th>modifyDate</th>\n",
       "      <th>pointsAwardedDate</th>\n",
       "      <th>pointsEarned</th>\n",
       "      <th>purchaseDate</th>\n",
       "      <th>...</th>\n",
       "      <th>itemNumber</th>\n",
       "      <th>needsFetchReviewReason</th>\n",
       "      <th>originalMetaBriteQuantityPurchased</th>\n",
       "      <th>pointsEarned</th>\n",
       "      <th>targetPrice</th>\n",
       "      <th>competitiveProduct</th>\n",
       "      <th>userFlaggedDescription</th>\n",
       "      <th>deleted</th>\n",
       "      <th>priceAfterCoupon</th>\n",
       "      <th>metabriteCampaignId</th>\n",
       "    </tr>\n",
       "  </thead>\n",
       "  <tbody>\n",
       "    <tr>\n",
       "      <th>674</th>\n",
       "      <td>603c7c6c0a7217c72c0003b3</td>\n",
       "      <td>25.0</td>\n",
       "      <td>COMPLETE_NONPARTNER_RECEIPT</td>\n",
       "      <td>2021-03-01 00:32:28</td>\n",
       "      <td>2021-03-01 00:32:28</td>\n",
       "      <td>NaN</td>\n",
       "      <td>2021-03-01 00:32:29</td>\n",
       "      <td>NaN</td>\n",
       "      <td>25.0</td>\n",
       "      <td>2020-08-16 20:00:00</td>\n",
       "      <td>...</td>\n",
       "      <td>NaN</td>\n",
       "      <td>NaN</td>\n",
       "      <td>NaN</td>\n",
       "      <td>NaN</td>\n",
       "      <td>NaN</td>\n",
       "      <td>NaN</td>\n",
       "      <td>NaN</td>\n",
       "      <td>NaN</td>\n",
       "      <td>22.97</td>\n",
       "      <td>NaN</td>\n",
       "    </tr>\n",
       "    <tr>\n",
       "      <th>675</th>\n",
       "      <td>603c3d240a720fde10000373</td>\n",
       "      <td>25.0</td>\n",
       "      <td>COMPLETE_NONPARTNER_RECEIPT</td>\n",
       "      <td>2021-02-28 20:02:28</td>\n",
       "      <td>2021-02-28 20:02:28</td>\n",
       "      <td>NaN</td>\n",
       "      <td>2021-02-28 20:02:29</td>\n",
       "      <td>NaN</td>\n",
       "      <td>25.0</td>\n",
       "      <td>2020-08-16 20:00:00</td>\n",
       "      <td>...</td>\n",
       "      <td>NaN</td>\n",
       "      <td>NaN</td>\n",
       "      <td>NaN</td>\n",
       "      <td>NaN</td>\n",
       "      <td>NaN</td>\n",
       "      <td>NaN</td>\n",
       "      <td>NaN</td>\n",
       "      <td>NaN</td>\n",
       "      <td>22.97</td>\n",
       "      <td>NaN</td>\n",
       "    </tr>\n",
       "    <tr>\n",
       "      <th>676</th>\n",
       "      <td>603cc2bc0a720fde100003e9</td>\n",
       "      <td>25.0</td>\n",
       "      <td>COMPLETE_NONPARTNER_RECEIPT</td>\n",
       "      <td>2021-03-01 05:32:28</td>\n",
       "      <td>2021-03-01 05:32:28</td>\n",
       "      <td>NaN</td>\n",
       "      <td>2021-03-01 05:32:29</td>\n",
       "      <td>NaN</td>\n",
       "      <td>25.0</td>\n",
       "      <td>2020-08-16 20:00:00</td>\n",
       "      <td>...</td>\n",
       "      <td>NaN</td>\n",
       "      <td>NaN</td>\n",
       "      <td>NaN</td>\n",
       "      <td>NaN</td>\n",
       "      <td>NaN</td>\n",
       "      <td>NaN</td>\n",
       "      <td>NaN</td>\n",
       "      <td>NaN</td>\n",
       "      <td>22.97</td>\n",
       "      <td>NaN</td>\n",
       "    </tr>\n",
       "    <tr>\n",
       "      <th>677</th>\n",
       "      <td>603cc0630a720fde100003e6</td>\n",
       "      <td>25.0</td>\n",
       "      <td>COMPLETE_NONPARTNER_RECEIPT</td>\n",
       "      <td>2021-03-01 05:22:27</td>\n",
       "      <td>2021-03-01 05:22:27</td>\n",
       "      <td>NaN</td>\n",
       "      <td>2021-03-01 05:22:28</td>\n",
       "      <td>NaN</td>\n",
       "      <td>25.0</td>\n",
       "      <td>2020-08-16 20:00:00</td>\n",
       "      <td>...</td>\n",
       "      <td>NaN</td>\n",
       "      <td>NaN</td>\n",
       "      <td>NaN</td>\n",
       "      <td>NaN</td>\n",
       "      <td>NaN</td>\n",
       "      <td>NaN</td>\n",
       "      <td>NaN</td>\n",
       "      <td>NaN</td>\n",
       "      <td>22.97</td>\n",
       "      <td>NaN</td>\n",
       "    </tr>\n",
       "    <tr>\n",
       "      <th>678</th>\n",
       "      <td>603ce7100a7217c72c000405</td>\n",
       "      <td>25.0</td>\n",
       "      <td>COMPLETE_NONPARTNER_RECEIPT</td>\n",
       "      <td>2021-03-01 08:07:28</td>\n",
       "      <td>2021-03-01 08:07:28</td>\n",
       "      <td>NaN</td>\n",
       "      <td>2021-03-01 08:07:29</td>\n",
       "      <td>NaN</td>\n",
       "      <td>25.0</td>\n",
       "      <td>2020-08-16 20:00:00</td>\n",
       "      <td>...</td>\n",
       "      <td>NaN</td>\n",
       "      <td>NaN</td>\n",
       "      <td>NaN</td>\n",
       "      <td>NaN</td>\n",
       "      <td>NaN</td>\n",
       "      <td>NaN</td>\n",
       "      <td>NaN</td>\n",
       "      <td>NaN</td>\n",
       "      <td>22.97</td>\n",
       "      <td>NaN</td>\n",
       "    </tr>\n",
       "  </tbody>\n",
       "</table></div>"
      ],
      "text/plain": [
       "                          _id  bonusPointsEarned      bonusPointsEarnedReason  \\\n",
       "674  603c7c6c0a7217c72c0003b3               25.0  COMPLETE_NONPARTNER_RECEIPT   \n",
       "675  603c3d240a720fde10000373               25.0  COMPLETE_NONPARTNER_RECEIPT   \n",
       "676  603cc2bc0a720fde100003e9               25.0  COMPLETE_NONPARTNER_RECEIPT   \n",
       "677  603cc0630a720fde100003e6               25.0  COMPLETE_NONPARTNER_RECEIPT   \n",
       "678  603ce7100a7217c72c000405               25.0  COMPLETE_NONPARTNER_RECEIPT   \n",
       "\n",
       "              createDate          dateScanned finishedDate  \\\n",
       "674  2021-03-01 00:32:28  2021-03-01 00:32:28          NaN   \n",
       "675  2021-02-28 20:02:28  2021-02-28 20:02:28          NaN   \n",
       "676  2021-03-01 05:32:28  2021-03-01 05:32:28          NaN   \n",
       "677  2021-03-01 05:22:27  2021-03-01 05:22:27          NaN   \n",
       "678  2021-03-01 08:07:28  2021-03-01 08:07:28          NaN   \n",
       "\n",
       "              modifyDate pointsAwardedDate  pointsEarned         purchaseDate  \\\n",
       "674  2021-03-01 00:32:29               NaN          25.0  2020-08-16 20:00:00   \n",
       "675  2021-02-28 20:02:29               NaN          25.0  2020-08-16 20:00:00   \n",
       "676  2021-03-01 05:32:29               NaN          25.0  2020-08-16 20:00:00   \n",
       "677  2021-03-01 05:22:28               NaN          25.0  2020-08-16 20:00:00   \n",
       "678  2021-03-01 08:07:29               NaN          25.0  2020-08-16 20:00:00   \n",
       "\n",
       "     ...  itemNumber needsFetchReviewReason  \\\n",
       "674  ...         NaN                    NaN   \n",
       "675  ...         NaN                    NaN   \n",
       "676  ...         NaN                    NaN   \n",
       "677  ...         NaN                    NaN   \n",
       "678  ...         NaN                    NaN   \n",
       "\n",
       "    originalMetaBriteQuantityPurchased  pointsEarned targetPrice  \\\n",
       "674                                NaN           NaN         NaN   \n",
       "675                                NaN           NaN         NaN   \n",
       "676                                NaN           NaN         NaN   \n",
       "677                                NaN           NaN         NaN   \n",
       "678                                NaN           NaN         NaN   \n",
       "\n",
       "    competitiveProduct userFlaggedDescription deleted priceAfterCoupon  \\\n",
       "674                NaN                    NaN     NaN            22.97   \n",
       "675                NaN                    NaN     NaN            22.97   \n",
       "676                NaN                    NaN     NaN            22.97   \n",
       "677                NaN                    NaN     NaN            22.97   \n",
       "678                NaN                    NaN     NaN            22.97   \n",
       "\n",
       "    metabriteCampaignId  \n",
       "674                 NaN  \n",
       "675                 NaN  \n",
       "676                 NaN  \n",
       "677                 NaN  \n",
       "678                 NaN  \n",
       "\n",
       "[5 rows x 47 columns]"
      ]
     },
     "execution_count": 571,
     "metadata": {},
     "output_type": "execute_result"
    }
   ],
   "source": [
    "merged_df.tail()"
   ]
  },
  {
   "cell_type": "markdown",
   "id": "c8e36618",
   "metadata": {},
   "source": [
    "## creating as receipts_1.csv as per our requirement which contains barcode data extracted from rewards receipt item list"
   ]
  },
  {
   "cell_type": "code",
   "execution_count": 582,
   "id": "75dd95a4",
   "metadata": {},
   "outputs": [],
   "source": [
    "merged_df[['_id','dateScanned','barcode','brandCode','purchasedItemCount','totalSpent','userId']].to_csv('receipts_1.csv',index=False)"
   ]
  },
  {
   "cell_type": "code",
   "execution_count": 574,
   "id": "657ee8ab",
   "metadata": {},
   "outputs": [
    {
     "data": {
      "text/plain": [
       "Index(['_id', 'bonusPointsEarned', 'bonusPointsEarnedReason', 'createDate',\n",
       "       'dateScanned', 'finishedDate', 'modifyDate', 'pointsAwardedDate',\n",
       "       'pointsEarned', 'purchaseDate', 'purchasedItemCount',\n",
       "       'rewardsReceiptItemList', 'rewardsReceiptStatus', 'totalSpent',\n",
       "       'userId'],\n",
       "      dtype='object')"
      ]
     },
     "execution_count": 574,
     "metadata": {},
     "output_type": "execute_result"
    }
   ],
   "source": [
    "receipts.columns"
   ]
  },
  {
   "cell_type": "code",
   "execution_count": 575,
   "id": "2d42a451",
   "metadata": {},
   "outputs": [],
   "source": [
    "receipts['totalSpent']=receipts['totalSpent'].astype(float)"
   ]
  },
  {
   "cell_type": "markdown",
   "id": "de4cc534",
   "metadata": {},
   "source": [
    "## creating as receipts_2.csv as per our requirement"
   ]
  },
  {
   "cell_type": "code",
   "execution_count": 583,
   "id": "6db80074",
   "metadata": {},
   "outputs": [],
   "source": [
    "receipts[['_id','rewardsReceiptStatus','totalSpent','purchasedItemCount','userId']].to_csv('receipts_2.csv',index=False)"
   ]
  }
 ],
 "metadata": {
  "kernelspec": {
   "display_name": "Python 3 (ipykernel)",
   "language": "python",
   "name": "python3"
  },
  "language_info": {
   "codemirror_mode": {
    "name": "ipython",
    "version": 3
   },
   "file_extension": ".py",
   "mimetype": "text/x-python",
   "name": "python",
   "nbconvert_exporter": "python",
   "pygments_lexer": "ipython3",
   "version": "3.11.1"
  }
 },
 "nbformat": 4,
 "nbformat_minor": 5
}
